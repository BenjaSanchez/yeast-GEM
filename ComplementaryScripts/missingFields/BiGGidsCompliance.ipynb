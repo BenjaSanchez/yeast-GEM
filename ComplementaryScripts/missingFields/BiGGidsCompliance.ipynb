{
 "cells": [
  {
   "cell_type": "markdown",
   "metadata": {},
   "source": [
    "# Curation of BiGG ids\n",
    "\n",
    "Notebook for correcting misc. issues with BiGG dictionaries provided by @snmendoz in PR #188.\n",
    "\n",
    "## 1. Splitting list into separate lists\n",
    "\n",
    "We will start by splitting the original met/reaction files into 2 separates based on if they belong or not to BiGG:"
   ]
  },
  {
   "cell_type": "code",
   "execution_count": 1,
   "metadata": {},
   "outputs": [],
   "source": [
    "# Function for splitting the file in two:\n",
    "import csv\n",
    "import os\n",
    "def split_in_two(old_file_name, bigg_file_name):\n",
    "    # Create list with BiGG ids:\n",
    "    with open(bigg_file_name) as bigg_file:\n",
    "        bigg_list = bigg_file.read().splitlines()\n",
    "        \n",
    "        \n",
    "    # Split file in two:\n",
    "    in_file_name = old_file_name.replace(\".csv\",\"_in.csv\")\n",
    "    out_file_name = old_file_name.replace(\".csv\",\"_newIDs.csv\")\n",
    "    with open(old_file_name) as old_file:\n",
    "        with open(in_file_name, 'w', newline='') as in_file:\n",
    "            with open(out_file_name, 'w', newline='') as out_file:\n",
    "                old_reader = csv.reader(old_file, delimiter=',')\n",
    "                in_writer = csv.writer(in_file, delimiter=',')\n",
    "                out_writer = csv.writer(out_file, delimiter=',')\n",
    "                for row in old_reader:\n",
    "                    if row[1] in bigg_list:\n",
    "                        in_writer.writerow([row[0], row[1]])\n",
    "                    else:\n",
    "                        out_writer.writerow([row[0], row[1]])\n",
    "\n",
    "    # Replace file:\n",
    "    os.remove(old_file_name)\n",
    "    os.rename(in_file_name, old_file_name)\n",
    "\n",
    "# Split both metabolite and reaction files:\n",
    "split_in_two('../../ComplementaryData/databases/BiGGmetDictionary.csv', '../../ComplementaryData/databases/mets_already_in_bigg.txt')\n",
    "split_in_two('../../ComplementaryData/databases/BiGGrxnDictionary.csv', '../../ComplementaryData/databases/rxns_already_in_bigg.txt')"
   ]
  },
  {
   "cell_type": "code",
   "execution_count": null,
   "metadata": {},
   "outputs": [],
   "source": []
  }
 ],
 "metadata": {
  "kernelspec": {
   "display_name": "Python 3",
   "language": "python",
   "name": "python3"
  },
  "language_info": {
   "codemirror_mode": {
    "name": "ipython",
    "version": 3
   },
   "file_extension": ".py",
   "mimetype": "text/x-python",
   "name": "python",
   "nbconvert_exporter": "python",
   "pygments_lexer": "ipython3",
   "version": "3.7.7"
  }
 },
 "nbformat": 4,
 "nbformat_minor": 4
}
